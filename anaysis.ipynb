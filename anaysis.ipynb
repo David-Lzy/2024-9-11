df_cleaned = df

# First, calculate the mean and variance for each forecast and for the actual median house price changes
df_cleaned["Actual_Change"] = df_cleaned["Median_House_Price"].pct_change() * 100

# Calculate mean and variance for the actual changes
actual_mean = df_cleaned["Actual_Change"].mean()
actual_variance = df_cleaned["Actual_Change"].var()

# Calculate mean and variance for each forecast
westpac_mean = df_cleaned["Westpac_Forecast"].mean()
westpac_variance = df_cleaned["Westpac_Forecast"].var()

joe_bloggs_mean = df_cleaned["Joe_Bloggs_Forecast"].mean()
joe_bloggs_variance = df_cleaned["Joe_Bloggs_Forecast"].var()

harry_spent_mean = df_cleaned["Harry_Spent_Forecast"].mean()
harry_spent_variance = df_cleaned["Harry_Spent_Forecast"].var()

# Calculate the differences in mean and variance compared to the actual changes
mean_diff_westpac = abs(actual_mean - westpac_mean)
var_diff_westpac = abs(actual_variance - westpac_variance)

mean_diff_joe_bloggs = abs(actual_mean - joe_bloggs_mean)
var_diff_joe_bloggs = abs(actual_variance - joe_bloggs_variance)

mean_diff_harry_spent = abs(actual_mean - harry_spent_mean)
var_diff_harry_spent = abs(actual_variance - harry_spent_variance)

# Display the results
results = {
    "Forecast": ["Actual", "Westpac", "Joe Bloggs", "Harry Spent"],
    "Mean": [actual_mean, westpac_mean, joe_bloggs_mean, harry_spent_mean],
    "Variance": [
        actual_variance,
        westpac_variance,
        joe_bloggs_variance,
        harry_spent_variance,
    ],
    "Mean Difference": [
        0,
        mean_diff_westpac,
        mean_diff_joe_bloggs,
        mean_diff_harry_spent,
    ],
    "Variance Difference": [
        0,
        var_diff_westpac,
        var_diff_joe_bloggs,
        var_diff_harry_spent,
    ],
}

df_results = pd.DataFrame(results)

# Display the resulting comparison
df_results
